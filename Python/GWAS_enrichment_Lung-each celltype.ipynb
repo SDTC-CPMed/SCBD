{
 "cells": [
  {
   "cell_type": "code",
   "execution_count": 1,
   "id": "db69a87e",
   "metadata": {},
   "outputs": [],
   "source": [
    "import gzip\n",
    "#mitosheet.sheet()\n",
    "import scipy.stats as stats\n",
    "import pandas as pd\n",
    "import numpy as np\n",
    "import matplotlib.pyplot as plt"
   ]
  },
  {
   "cell_type": "code",
   "execution_count": 2,
   "id": "5491b6ec",
   "metadata": {},
   "outputs": [],
   "source": [
    "variant_disease = pd.read_csv(\"all_variant_disease_associations.tsv.gz\", compression='gzip', sep = '\\t')"
   ]
  },
  {
   "cell_type": "code",
   "execution_count": 3,
   "id": "30b7b004",
   "metadata": {},
   "outputs": [
    {
     "name": "stdout",
     "output_type": "stream",
     "text": [
      "(14155,)\n"
     ]
    },
    {
     "data": {
      "text/plain": [
       "array(['1-3 toe syndactyly', '1-5 finger syndactyly', '11 pairs of ribs',\n",
       "       ..., 'von Willebrand disease type 2M',\n",
       "       \"von Willebrand's factor (lab test)\", 'winter depression'],\n",
       "      dtype=object)"
      ]
     },
     "execution_count": 3,
     "metadata": {},
     "output_type": "execute_result"
    }
   ],
   "source": [
    "print(np.shape(np.unique(variant_disease['diseaseName'])))\n",
    "np.unique(variant_disease['diseaseName'])"
   ]
  },
  {
   "cell_type": "code",
   "execution_count": 4,
   "id": "61139dc1",
   "metadata": {},
   "outputs": [
    {
     "name": "stdout",
     "output_type": "stream",
     "text": [
      "32\n"
     ]
    },
    {
     "data": {
      "text/plain": [
       "array(['Adenocarcinoma of lung (disorder)',\n",
       "       'Adenocarcinoma of lung stage IIIB',\n",
       "       'Adenocarcinoma of lung, stage I',\n",
       "       'Adenocarcinoma of lung, stage IV', 'Adenoma of lung',\n",
       "       'Adenosquamous cell lung cancer',\n",
       "       'Advanced Lung Non-Squamous Non-Small Cell Carcinoma',\n",
       "       'Advanced lung cancer', 'Benign neoplasm of lung',\n",
       "       'Carcinoma of lung',\n",
       "       'Epidermal growth factor receptor positive non-small cell lung cancer',\n",
       "       'Large cell carcinoma of lung', 'Lung Neoplasms',\n",
       "       'Malignant neoplasm of lung', 'Metastatic Lung Adenocarcinoma',\n",
       "       'Metastatic non-small cell lung cancer',\n",
       "       'Neuroendocrine neoplasm of lung', 'Non-Small Cell Lung Carcinoma',\n",
       "       'Non-small cell lung cancer recurrent',\n",
       "       'Non-small cell lung cancer stage I',\n",
       "       'Non-small cell lung cancer stage III',\n",
       "       'Non-squamous non-small cell lung cancer',\n",
       "       'Primary malignant neoplasm of lung',\n",
       "       'Secondary malignant neoplasm of lung',\n",
       "       'Small cell carcinoma of lung',\n",
       "       'Small cell lung cancer extensive stage',\n",
       "       'Small cell lung cancer limited stage',\n",
       "       'Squamous cell carcinoma of lung',\n",
       "       'Stage IA Lung Adenocarcinoma AJCC v7',\n",
       "       'newly diagnosed non-small cell lung cancer',\n",
       "       'progressive non-small cell lung cancer',\n",
       "       'stage, non-small cell lung cancer'], dtype=object)"
      ]
     },
     "execution_count": 4,
     "metadata": {},
     "output_type": "execute_result"
    }
   ],
   "source": [
    "Lung = list()\n",
    "for i in range(len(variant_disease['diseaseName'])):\n",
    "    if 'Lung' in variant_disease['diseaseName'][i] and 'Acute Lung Injury' not in variant_disease['diseaseName'][i] \\\n",
    "    and 'Infectious Lung Disorder' not in variant_disease['diseaseName'][i] \\\n",
    "    and 'Lung Diseases, Interstitial' not in variant_disease['diseaseName'][i] \\\n",
    "    and 'Lung Diseases, Obstructive' not in variant_disease['diseaseName'][i] \\\n",
    "    and 'Lung diseases' not in variant_disease['diseaseName'][i] \\\n",
    "    and 'Sex Reversal, Female, With Dysgenesis Of Kidneys, Adrenals, And Lungs' not in variant_disease['diseaseName'][i] \\\n",
    "    and 'Transfusion-Related Acute Lung Injury' not in variant_disease['diseaseName'][i]:\n",
    "        Lung.append(i)\n",
    "    if 'lung' in variant_disease['diseaseName'][i] \\\n",
    "    and 'Bulla of lung' not in variant_disease['diseaseName'][i] \\\n",
    "    and 'Chronic lung disease' not in variant_disease['diseaseName'][i] \\\n",
    "    and 'Congenital hypoplasia of lung' not in variant_disease['diseaseName'][i] \\\n",
    "    and 'Madelung Deformity' not in variant_disease['diseaseName'][i] :\n",
    "        Lung.append(i)\n",
    "print(len(np.unique(variant_disease['diseaseName'][Lung])))\n",
    "np.unique(variant_disease['diseaseName'][Lung])"
   ]
  },
  {
   "cell_type": "code",
   "execution_count": 5,
   "id": "8a56966b",
   "metadata": {},
   "outputs": [],
   "source": [
    "#These are information about the diseases from the database\n",
    "# variant_disease.loc[Colon]"
   ]
  },
  {
   "cell_type": "code",
   "execution_count": 6,
   "id": "4ec1d334",
   "metadata": {},
   "outputs": [
    {
     "name": "stdout",
     "output_type": "stream",
     "text": [
      "1166\n"
     ]
    }
   ],
   "source": [
    "#Map the database to the geneSymbol names\n",
    "snpId = variant_disease.loc[Lung]['snpId']\n",
    "variant_gene = pd.read_csv(\"variant_to_gene_mappings.tsv.gz\", compression='gzip', sep = '\\t')\n",
    "chosen = list()\n",
    "for i in range(len(variant_gene['snpId'])):\n",
    "    if variant_gene['snpId'][i] in np.array(snpId):\n",
    "        chosen.append(i)\n",
    "variant_gene.loc[chosen]\n",
    "\n",
    "# Here is the list of GWAS genes that we are interested in\n",
    "GWAS_Lung = np.unique(variant_gene.loc[chosen]['geneSymbol'])\n",
    "print(len(GWAS_Lung))"
   ]
  },
  {
   "cell_type": "code",
   "execution_count": 7,
   "id": "858cdf39",
   "metadata": {},
   "outputs": [],
   "source": [
    "'''GWAS enrichment'''\n",
    "'''DEGs are selected DSs'''\n",
    "    \n",
    "#DEGs of each celltype \n",
    "cancer_list = ['Lung','Liver','Breast','Colon','Ovary']\n",
    "cancer = \"Lung\" # change here for different cancers\n",
    "\n",
    "with open('/GWAS_enrich_percelltype_'+cancer+'.txt','w') as f:\n",
    "\n",
    "    DEGs = pd.read_csv('/ligand_target_merged_withFC.csv',sep = ',')\n",
    "    DEGs = DEGs.loc[DEGs['cancer']==cancer]\n",
    "    DEGs\n",
    "\n",
    "    celltype_DEG = np.unique(DEGs['receiver'])\n",
    "    print(\"celltypes_DEGs: \", celltype_DEG, file =f)\n",
    "\n",
    "    '''all_genes means the combine of all background genes in all celltypes'''\n",
    "    bg_file_path = (\"/background_genes_\"+cancer+\".csv\")\n",
    "    all_gene = np.arange(0)\n",
    "    all = pd.read_csv(bg_file_path,sep = ',') \n",
    "    all = all.drop('Unnamed: 0',axis = 1)\n",
    "\n",
    "    celltype_bg = all.columns\n",
    "    print(\"celltypes_bgs: \", celltype_bg, file =f)\n",
    "    DEGs\n",
    "\n",
    "    '''for Lung only - loop all celltype'''\n",
    "    for c in range(len(celltype_DEG)):\n",
    "        print('\\n', file =f)\n",
    "        print(celltype_DEG[c], file =f)\n",
    "        iDEGs = DEGs.loc[DEGs['receiver']==celltype_DEG[c]]['target'].unique()\n",
    "        print(celltype_DEG[c],\"DEGs\",len(iDEGs), file =f)\n",
    "        ibackground_genes = all[celltype_DEG[c]].unique()\n",
    "        ibackground_genes = [x for x in ibackground_genes if x != 'NAN']\n",
    "        ibackground_genes = [x for x in ibackground_genes if x != 'nan']\n",
    "        print(celltype_DEG[c],\"background\",len(ibackground_genes), file =f)\n",
    "\n",
    "        GWAS = list()\n",
    "        for g in GWAS_Lung:\n",
    "            for a in ibackground_genes:\n",
    "                a = str(a)\n",
    "                for i in range(len(a.split('///'))):\n",
    "                    if g == a.split('///')[i]:\n",
    "                        GWAS.append(a)                   \n",
    "        GWAS = np.unique(GWAS)\n",
    "        GWAS\n",
    "\n",
    "        nonDEGs = list(set(ibackground_genes) - set(iDEGs))                \n",
    "        table11 = len(np.intersect1d(GWAS, iDEGs))\n",
    "        table12 = len(iDEGs) - table11\n",
    "        table21 = len(np.intersect1d(GWAS, nonDEGs))\n",
    "        table22 = len(ibackground_genes) - (table21 + table12 + table11)\n",
    "        table = pd.DataFrame([[table11, table12], [table21, table22]])\n",
    "        table.index = ('DEGs', 'nonDEGs')\n",
    "        table.columns = ('GWAS', 'nonGWAS')\n",
    "\n",
    "        print('Lung Cancer - ',celltype_DEG[c], file =f )\n",
    "        print(table, file =f)\n",
    "        odds, pval = stats.fisher_exact(table)\n",
    "        print(\"Odds ratio: \", round(odds, 4), file =f)\n",
    "        print(\"p-value: \",round(pval, 6), file =f)\n",
    "\n",
    "        # if the odds are > 1 and pval <0.05 The list of DEGs is significantly enriched by the GWAS genes\n",
    "        # if the odds are < 1 and pval <0.05 The list of DEGs is not enriched by the GWAS genes\n"
   ]
  },
  {
   "cell_type": "code",
   "execution_count": 8,
   "id": "862783fd",
   "metadata": {},
   "outputs": [],
   "source": [
    "'''GWAS enrichment'''\n",
    "'''DEGs are selected all DSs\n",
    "    background genes are all differentially expressed genes\n",
    "'''\n",
    "    \n",
    "#DEGs of each celltype \n",
    "cancer_list = ['Lung','Liver','Breast','Colon','Ovary']\n",
    "cancer = \"Lung\" # change here for different cancers\n",
    "\n",
    "with open('/GWAS_enrich_percelltype_DEGasBG_'+cancer+'.txt','w') as f:\n",
    "\n",
    "    DEGs = pd.read_csv('/ligand_target_merged_withFC.csv',sep = ',')\n",
    "    DEGs = DEGs.loc[DEGs['cancer']==cancer]\n",
    "    DEGs\n",
    "\n",
    "    celltype_DEG = np.unique(DEGs['receiver'])\n",
    "    print(\"celltypes_DEGs: \", celltype_DEG, file =f)\n",
    "\n",
    "    '''Differentially expressed genes in each cell type were background genes'''\n",
    "    bg_file_path = (\"/DEGs_of_\"+cancer+\"/DEGs_merged_\"+cancer+\"_MAST.txt\")\n",
    "    all_gene = np.arange(0)\n",
    "    all = pd.read_csv(bg_file_path,sep = '\\t') \n",
    "    all\n",
    "    \n",
    "    celltype_bg = all.columns\n",
    "    print(\"celltypes_bgs: \", celltype_bg, file =f)\n",
    "    DEGs\n",
    "\n",
    "    '''loop all celltype'''\n",
    "    for c in range(len(celltype_DEG)):\n",
    "        print('\\n', file =f)\n",
    "        print(celltype_DEG[c], file =f)\n",
    "        iDEGs = DEGs.loc[DEGs['receiver']==celltype_DEG[c]]['target'].unique()\n",
    "        print(celltype_DEG[c],\"DEGs\",len(iDEGs), file =f)\n",
    "        ibackground_genes = all[celltype_DEG[c]].unique()\n",
    "        ibackground_genes = [x for x in ibackground_genes if x != 'NAN']\n",
    "        ibackground_genes = [x for x in ibackground_genes if x != 'nan']\n",
    "        print(celltype_DEG[c],\"background\",len(ibackground_genes), file =f)\n",
    "\n",
    "        GWAS = list()\n",
    "        for g in GWAS_Lung:\n",
    "            for a in ibackground_genes:\n",
    "                a = str(a)\n",
    "                for i in range(len(a.split('///'))):\n",
    "                    if g == a.split('///')[i]:\n",
    "                        GWAS.append(a)                   \n",
    "        GWAS = np.unique(GWAS)\n",
    "        GWAS\n",
    "\n",
    "        nonDEGs = list(set(ibackground_genes) - set(iDEGs))                \n",
    "        table11 = len(np.intersect1d(GWAS, iDEGs))\n",
    "        table12 = len(iDEGs) - table11\n",
    "        table21 = len(np.intersect1d(GWAS, nonDEGs))\n",
    "        table22 = len(ibackground_genes) - (table21 + table12 + table11)\n",
    "        table = pd.DataFrame([[table11, table12], [table21, table22]])\n",
    "        table.index = ('DEGs', 'nonDEGs')\n",
    "        table.columns = ('GWAS', 'nonGWAS')\n",
    "\n",
    "        print('Lung Cancer - ',celltype_DEG[c], file =f )\n",
    "        print(table, file =f)\n",
    "        odds, pval = stats.fisher_exact(table)\n",
    "        print(\"Odds ratio: \", round(odds, 4), file =f)\n",
    "        print(\"p-value: \",round(pval, 6), file =f)\n",
    "\n",
    "        # if the odds are > 1 and pval <0.05 The list of DEGs is significantly enriched by the GWAS genes\n",
    "        # if the odds are < 1 and pval <0.05 The list of DEGs is not enriched by the GWAS genes\n",
    "\n"
   ]
  },
  {
   "cell_type": "code",
   "execution_count": 11,
   "id": "44b460df",
   "metadata": {},
   "outputs": [],
   "source": [
    "'''GWAS enrichment'''\n",
    "'''DEGs are selected all DSs of the scURs\n",
    "    background genes are all differentially expressed genes\n",
    "'''\n",
    "    \n",
    "#DEGs of each celltype \n",
    "cancer_list = ['Lung','Liver','Breast','Colon','Ovary']\n",
    "cancer = \"Lung\" # change here for different cancers\n",
    "\n",
    "with open('/GWAS_enrich_percelltype_DS4scUR_DEGasBG_'+cancer+'.txt','w') as f:\n",
    "\n",
    "    DEGs = pd.read_csv('/ligand_target_merged_DS_of_scUR.csv',sep = ',')\n",
    "    #top_scURs = [\"COL1A1\",\"FN1\",\"SPP1\",\"COL4A1\",\"COL18A1\", \"PLAU\" , \"CLEC11A\" ,\"MDK\"]\n",
    "    #DEGs = DEGs.loc[np.isin(DEGs['ligand'], top_scURs)]\n",
    "    DEGs = DEGs.loc[DEGs['cancer']==cancer]\n",
    "\n",
    "\n",
    "    celltype_DEG = np.unique(DEGs['receiver'])\n",
    "    print(\"celltypes_DEGs: \", celltype_DEG, file =f)\n",
    "\n",
    "    '''Differentially expressed genes in each cell type were background genes'''\n",
    "    bg_file_path = (\"/DEGs_of_\"+cancer+\"/DEGs_merged_\"+cancer+\"_MAST.txt\")\n",
    "    all_gene = np.arange(0)\n",
    "    all = pd.read_csv(bg_file_path,sep = '\\t') \n",
    "    all\n",
    "    \n",
    "    celltype_bg = all.columns\n",
    "    print(\"celltypes_bgs: \", celltype_bg, file =f)\n",
    "    DEGs\n",
    "\n",
    "    '''loop all celltype'''\n",
    "    for c in range(len(celltype_DEG)):\n",
    "        print('\\n', file =f)\n",
    "        print(celltype_DEG[c], file =f)\n",
    "        iDEGs = DEGs.loc[DEGs['receiver']==celltype_DEG[c]]['target'].unique()\n",
    "        print(celltype_DEG[c],\"DEGs\",len(iDEGs), file =f)\n",
    "        ibackground_genes = all[celltype_DEG[c]].unique()\n",
    "        ibackground_genes = [x for x in ibackground_genes if x != 'NAN']\n",
    "        ibackground_genes = [x for x in ibackground_genes if x != 'nan']\n",
    "        print(celltype_DEG[c],\"background\",len(ibackground_genes), file =f)\n",
    "\n",
    "        GWAS = list()\n",
    "        for g in GWAS_Lung:\n",
    "            for a in ibackground_genes:\n",
    "                a = str(a)\n",
    "                for i in range(len(a.split('///'))):\n",
    "                    if g == a.split('///')[i]:\n",
    "                        GWAS.append(a)                   \n",
    "        GWAS = np.unique(GWAS)\n",
    "        GWAS\n",
    "\n",
    "        nonDEGs = list(set(ibackground_genes) - set(iDEGs))                \n",
    "        table11 = len(np.intersect1d(GWAS, iDEGs))\n",
    "        table12 = len(iDEGs) - table11\n",
    "        table21 = len(np.intersect1d(GWAS, nonDEGs))\n",
    "        table22 = len(ibackground_genes) - (table21 + table12 + table11)\n",
    "        table = pd.DataFrame([[table11, table12], [table21, table22]])\n",
    "        table.index = ('DEGs', 'nonDEGs')\n",
    "        table.columns = ('GWAS', 'nonGWAS')\n",
    "\n",
    "        print('Lung Cancer - ',celltype_DEG[c], file =f )\n",
    "        print(table, file =f)\n",
    "        odds, pval = stats.fisher_exact(table)\n",
    "        print(\"Odds ratio: \", round(odds, 4), file =f)\n",
    "        print(\"p-value: \",round(pval, 6), file =f)\n",
    "\n",
    "        # if the odds are > 1 and pval <0.05 The list of DEGs is significantly enriched by the GWAS genes\n",
    "        # if the odds are < 1 and pval <0.05 The list of DEGs is not enriched by the GWAS genes\n",
    "\n",
    "\n"
   ]
  },
  {
   "cell_type": "code",
   "execution_count": 10,
   "id": "a15419fe",
   "metadata": {},
   "outputs": [
    {
     "data": {
      "text/plain": [
       "array(['BAX', 'CCND1', 'GADD45B', 'GNAS', 'KLF6', 'KRT8', 'MMP2', 'MMP9',\n",
       "       'MUC1', 'NR3C1', 'PLAU', 'SPP1', 'TGFB1', 'TIMP1'], dtype=object)"
      ]
     },
     "execution_count": 10,
     "metadata": {},
     "output_type": "execute_result"
    }
   ],
   "source": [
    "# list GWAS gene that in our gene-of-interests\n",
    "# np.intersect1d(GWAS, DEGs)"
   ]
  },
  {
   "cell_type": "code",
   "execution_count": null,
   "id": "b3658dc0",
   "metadata": {},
   "outputs": [],
   "source": []
  }
 ],
 "metadata": {
  "kernelspec": {
   "display_name": "Python 3 (ipykernel)",
   "language": "python",
   "name": "python3"
  },
  "language_info": {
   "codemirror_mode": {
    "name": "ipython",
    "version": 3
   },
   "file_extension": ".py",
   "mimetype": "text/x-python",
   "name": "python",
   "nbconvert_exporter": "python",
   "pygments_lexer": "ipython3",
   "version": "3.9.13"
  }
 },
 "nbformat": 4,
 "nbformat_minor": 5
}
