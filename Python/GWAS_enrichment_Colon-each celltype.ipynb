{
 "cells": [
  {
   "cell_type": "code",
   "execution_count": 1,
   "id": "76e82ed9",
   "metadata": {},
   "outputs": [],
   "source": [
    "import gzip\n",
    "#import mitosheet\n",
    "#mitosheet.sheet()\n",
    "import scipy.stats as stats\n",
    "import pandas as pd\n",
    "import numpy as np\n",
    "import matplotlib.pyplot as plt"
   ]
  },
  {
   "cell_type": "code",
   "execution_count": 2,
   "id": "f813b42d",
   "metadata": {},
   "outputs": [],
   "source": [
    "variant_disease = pd.read_csv(\"all_variant_disease_associations.tsv.gz\", compression='gzip', sep = '\\t')"
   ]
  },
  {
   "cell_type": "code",
   "execution_count": 3,
   "id": "73285d7a",
   "metadata": {},
   "outputs": [
    {
     "name": "stdout",
     "output_type": "stream",
     "text": [
      "(14155,)\n"
     ]
    },
    {
     "data": {
      "text/plain": [
       "array(['1-3 toe syndactyly', '1-5 finger syndactyly', '11 pairs of ribs',\n",
       "       ..., 'von Willebrand disease type 2M',\n",
       "       \"von Willebrand's factor (lab test)\", 'winter depression'],\n",
       "      dtype=object)"
      ]
     },
     "execution_count": 3,
     "metadata": {},
     "output_type": "execute_result"
    }
   ],
   "source": [
    "print(np.shape(np.unique(variant_disease['diseaseName'])))\n",
    "np.unique(variant_disease['diseaseName'])"
   ]
  },
  {
   "cell_type": "code",
   "execution_count": 4,
   "id": "4540710b",
   "metadata": {},
   "outputs": [
    {
     "name": "stdout",
     "output_type": "stream",
     "text": [
      "40\n"
     ]
    },
    {
     "data": {
      "text/plain": [
       "array(['Adenocarcinoma of colon', 'Adenomatous colonic polyposis',\n",
       "       'Adenomatous polyp of colon', 'Colon Carcinoma', 'Colon adenoma',\n",
       "       'Colonic Neoplasms',\n",
       "       'Colorectal Adenomatous Polyposis, Autosomal Recessive',\n",
       "       'Colorectal Carcinoma', 'Colorectal Mucinous Adenocarcinoma',\n",
       "       'Colorectal Neoplasms', 'Colorectal Serrated Adenocarcinoma',\n",
       "       'Colorectal cancer, hereditary nonpolyposis, type 1',\n",
       "       'Familial Colorectal Cancer Type X',\n",
       "       'Hereditary Non-Polyposis Colon Cancer Type 2',\n",
       "       'Hereditary Nonpolyposis Colorectal Cancer',\n",
       "       'Hereditary Nonpolyposis Colorectal Neoplasms',\n",
       "       'Hereditary nonpolyposis colorectal carcinoma',\n",
       "       'Malignant neoplasm of ascending colon',\n",
       "       'Malignant neoplasm of colon and/or rectum',\n",
       "       'Malignant neoplasm of colon stage IV',\n",
       "       'Malignant neoplasm of sigmoid colon', 'Malignant tumor of colon',\n",
       "       'Metastatic Colorectal Carcinoma',\n",
       "       'Microsatellite instability-high colorectal cancer',\n",
       "       'Oligodontia-Colorectal Cancer Syndrome',\n",
       "       'Refractory Colorectal Carcinoma',\n",
       "       'Secondary malignant neoplasm of colon and/or rectum',\n",
       "       'Stage II Colon Cancer', 'Stage II Colon Cancer AJCC v7',\n",
       "       'Stage II Colon Cancer AJCC v8', 'Stage III Colon Cancer',\n",
       "       'Stage III Colon Cancer AJCC v7', 'Stage III Colon Cancer AJCC v8',\n",
       "       'Stage III Colorectal Cancer',\n",
       "       'Stage III Colorectal Cancer AJCC v7',\n",
       "       'Stage IV Colon Cancer AJCC v8', 'Stage IV Colon Carcinoma',\n",
       "       'Stage IV Colorectal Cancer', 'Stage IV Colorectal Cancer AJCC v7',\n",
       "       'stage, colon cancer'], dtype=object)"
      ]
     },
     "execution_count": 4,
     "metadata": {},
     "output_type": "execute_result"
    }
   ],
   "source": [
    "Colon = list()\n",
    "for i in range(len(variant_disease['diseaseName'])):\n",
    "    if 'Colon' in variant_disease['diseaseName'][i] and 'Macrophage Colony Stimulating Factor Measurement' not in variant_disease['diseaseName'][i] \\\n",
    "        and 'Granulocyte Colony Stimulating Factor Measurement' not in variant_disease['diseaseName'][i] \\\n",
    "        and 'Colonic Polyps' not in variant_disease['diseaseName'][i] \\\n",
    "        and 'Colonic Diseases' not in variant_disease['diseaseName'][i] \\\n",
    "        and 'Aganglionosis, Colonic' not in variant_disease['diseaseName'][i] \\\n",
    "        and 'Colon Serrated Polyposis' not in variant_disease['diseaseName'][i] :\n",
    "        Colon.append(i)\n",
    "    if 'colon' in variant_disease['diseaseName'][i] and 'Megacolon' not in variant_disease['diseaseName'][i] \\\n",
    "        and 'Perforation of colon' not in variant_disease['diseaseName'][i] \\\n",
    "        and 'Microcolon' not in variant_disease['diseaseName'][i] \\\n",
    "        and 'Megacystis microcolon intestinal hypoperistalsis syndrome' not in variant_disease['diseaseName'][i] \\\n",
    "        and 'Hyperplastic colonic polyposis' not in variant_disease['diseaseName'][i] \\\n",
    "        and 'Congenital atresia of colon' not in variant_disease['diseaseName'][i] \\\n",
    "        and 'Goldberg-Shprintzen megacolon syndrome' not in variant_disease['diseaseName'][i] \\\n",
    "        and 'Diverticular disease of colon' not in variant_disease['diseaseName'][i]:\n",
    "        Colon.append(i)\n",
    "    if 'colorectal' in variant_disease['diseaseName'][i]:\n",
    "        Colon.append(i)\n",
    "    if 'Colorectal' in variant_disease['diseaseName'][i]:\n",
    "        Colon.append(i)\n",
    "print(len(np.unique(variant_disease['diseaseName'][Colon])))\n",
    "np.unique(variant_disease['diseaseName'][Colon])"
   ]
  },
  {
   "cell_type": "code",
   "execution_count": 5,
   "id": "7814e110",
   "metadata": {},
   "outputs": [],
   "source": [
    "#These are information about the diseases from the database\n",
    "# variant_disease.loc[Colon]"
   ]
  },
  {
   "cell_type": "code",
   "execution_count": 6,
   "id": "e611b8c7",
   "metadata": {},
   "outputs": [
    {
     "name": "stdout",
     "output_type": "stream",
     "text": [
      "1278\n"
     ]
    }
   ],
   "source": [
    "#Map the database to the geneSymbol names\n",
    "snpId = variant_disease.loc[Colon]['snpId']\n",
    "variant_gene = pd.read_csv(\"variant_to_gene_mappings.tsv.gz\", compression='gzip', sep = '\\t')\n",
    "chosen = list()\n",
    "for i in range(len(variant_gene['snpId'])):\n",
    "    if variant_gene['snpId'][i] in np.array(snpId):\n",
    "        chosen.append(i)\n",
    "variant_gene.loc[chosen]\n",
    "\n",
    "# Here is the list of GWAS genes that we are interested in\n",
    "GWAS_Colon = np.unique(variant_gene.loc[chosen]['geneSymbol'])\n",
    "print(len(GWAS_Colon))"
   ]
  },
  {
   "cell_type": "code",
   "execution_count": 7,
   "id": "815a55a8",
   "metadata": {},
   "outputs": [],
   "source": [
    "'''GWAS enrichment'''\n",
    "'''DEGs are selected DSs'''\n",
    "    \n",
    "#DEGs of each celltype \n",
    "cancer_list = ['Lung','Liver','Breast','Colon','Ovary']\n",
    "cancer = \"Colon\" # change here for different cancers\n",
    "\n",
    "with open('/GWAS_enrich_percelltype_'+cancer+'.txt','w') as f:\n",
    "\n",
    "    DEGs = pd.read_csv('/ligand_target_merged_withFC.csv',sep = ',')\n",
    "    DEGs = DEGs.loc[DEGs['cancer']==cancer]\n",
    "    DEGs\n",
    "\n",
    "    celltype_DEG = np.unique(DEGs['receiver'])\n",
    "    print(\"celltypes_DEGs: \", celltype_DEG, file =f)\n",
    "\n",
    "    '''all_genes means the combine of all background genes in all celltypes'''\n",
    "    bg_file_path = (\"/background_genes_\"+cancer+\".csv\")\n",
    "    all_gene = np.arange(0)\n",
    "    all = pd.read_csv(bg_file_path,sep = ',') \n",
    "    all = all.drop('Unnamed: 0',axis = 1)\n",
    "\n",
    "    celltype_bg = all.columns\n",
    "    print(\"celltypes_bgs: \", celltype_bg, file =f)\n",
    "    DEGs\n",
    "\n",
    "    '''loop all celltype'''\n",
    "    for c in range(len(celltype_DEG)):\n",
    "        print('\\n', file =f)\n",
    "        print(celltype_DEG[c], file =f)\n",
    "        iDEGs = DEGs.loc[DEGs['receiver']==celltype_DEG[c]]['target'].unique()\n",
    "        print(celltype_DEG[c],\"DEGs\",len(iDEGs), file =f)\n",
    "        ibackground_genes = all[celltype_DEG[c]].unique()\n",
    "        ibackground_genes = [x for x in ibackground_genes if x != 'NAN']\n",
    "        ibackground_genes = [x for x in ibackground_genes if x != 'nan']\n",
    "        print(celltype_DEG[c],\"background\",len(ibackground_genes), file =f)\n",
    "\n",
    "        GWAS = list()\n",
    "        for g in GWAS_Colon:\n",
    "            for a in ibackground_genes:\n",
    "                a = str(a)\n",
    "                for i in range(len(a.split('///'))):\n",
    "                    if g == a.split('///')[i]:\n",
    "                        GWAS.append(a)                   \n",
    "        GWAS = np.unique(GWAS)\n",
    "        GWAS\n",
    "\n",
    "        nonDEGs = list(set(ibackground_genes) - set(iDEGs))                \n",
    "        table11 = len(np.intersect1d(GWAS, iDEGs))\n",
    "        table12 = len(iDEGs) - table11\n",
    "        table21 = len(np.intersect1d(GWAS, nonDEGs))\n",
    "        table22 = len(ibackground_genes) - (table21 + table12 + table11)\n",
    "        table = pd.DataFrame([[table11, table12], [table21, table22]])\n",
    "        table.index = ('DEGs', 'nonDEGs')\n",
    "        table.columns = ('GWAS', 'nonGWAS')\n",
    "\n",
    "        print('Colon Cancer - ',celltype_DEG[c], file =f )\n",
    "        print(table, file =f)\n",
    "        odds, pval = stats.fisher_exact(table)\n",
    "        print(\"Odds ratio: \", round(odds, 4), file =f)\n",
    "        print(\"p-value: \",round(pval, 6), file =f)\n",
    "\n",
    "        # if the odds are > 1 and pval <0.05 The list of DEGs is significantly enriched by the GWAS genes\n",
    "        # if the odds are < 1 and pval <0.05 The list of DEGs is not enriched by the GWAS genes\n",
    "\n"
   ]
  },
  {
   "cell_type": "code",
   "execution_count": 7,
   "id": "6faaec04",
   "metadata": {},
   "outputs": [],
   "source": [
    "'''GWAS enrichment'''\n",
    "'''DEGs are selected all DSs\n",
    "    background genes are all differentially expressed genes\n",
    "'''\n",
    "    \n",
    "#DEGs of each celltype \n",
    "cancer_list = ['Lung','Liver','Breast','Colon','Ovary']\n",
    "cancer = \"Colon\" # change here for different cancers\n",
    "\n",
    "with open('/GWAS_enrich_percelltype_DEGasBG_'+cancer+'.txt','w') as f:\n",
    "\n",
    "    DEGs = pd.read_csv('/ligand_target_merged_withFC.csv',sep = ',')\n",
    "    DEGs = DEGs.loc[DEGs['cancer']==cancer]\n",
    "    DEGs\n",
    "\n",
    "    celltype_DEG = np.unique(DEGs['receiver'])\n",
    "    print(\"celltypes_DEGs: \", celltype_DEG, file =f)\n",
    "\n",
    "    '''Differentially expressed genes in each cell type were background genes'''\n",
    "    bg_file_path = (\"/DEGs_of_\"+cancer+\"/DEGs_merged_\"+cancer+\"_MAST.txt\")\n",
    "    all_gene = np.arange(0)\n",
    "    all = pd.read_csv(bg_file_path,sep = '\\t') \n",
    "    all\n",
    "    \n",
    "    celltype_bg = all.columns\n",
    "    print(\"celltypes_bgs: \", celltype_bg, file =f)\n",
    "    DEGs\n",
    "\n",
    "    '''loop all celltype'''\n",
    "    for c in range(len(celltype_DEG)):\n",
    "        print('\\n', file =f)\n",
    "        print(celltype_DEG[c], file =f)\n",
    "        iDEGs = DEGs.loc[DEGs['receiver']==celltype_DEG[c]]['target'].unique()\n",
    "        print(celltype_DEG[c],\"DEGs\",len(iDEGs), file =f)\n",
    "        ibackground_genes = all[celltype_DEG[c]].unique()\n",
    "        ibackground_genes = [x for x in ibackground_genes if x != 'NAN']\n",
    "        ibackground_genes = [x for x in ibackground_genes if x != 'nan']\n",
    "        print(celltype_DEG[c],\"background\",len(ibackground_genes), file =f)\n",
    "\n",
    "        GWAS = list()\n",
    "        for g in GWAS_Colon:\n",
    "            for a in ibackground_genes:\n",
    "                a = str(a)\n",
    "                for i in range(len(a.split('///'))):\n",
    "                    if g == a.split('///')[i]:\n",
    "                        GWAS.append(a)                   \n",
    "        GWAS = np.unique(GWAS)\n",
    "        GWAS\n",
    "\n",
    "        nonDEGs = list(set(ibackground_genes) - set(iDEGs))                \n",
    "        table11 = len(np.intersect1d(GWAS, iDEGs))\n",
    "        table12 = len(iDEGs) - table11\n",
    "        table21 = len(np.intersect1d(GWAS, nonDEGs))\n",
    "        table22 = len(ibackground_genes) - (table21 + table12 + table11)\n",
    "        table = pd.DataFrame([[table11, table12], [table21, table22]])\n",
    "        table.index = ('DEGs', 'nonDEGs')\n",
    "        table.columns = ('GWAS', 'nonGWAS')\n",
    "\n",
    "        print('Colon Cancer - ',celltype_DEG[c], file =f )\n",
    "        print(table, file =f)\n",
    "        odds, pval = stats.fisher_exact(table)\n",
    "        print(\"Odds ratio: \", round(odds, 4), file =f)\n",
    "        print(\"p-value: \",round(pval, 6), file =f)\n",
    "\n",
    "        # if the odds are > 1 and pval <0.05 The list of DEGs is significantly enriched by the GWAS genes\n",
    "        # if the odds are < 1 and pval <0.05 The list of DEGs is not enriched by the GWAS genes\n",
    "\n"
   ]
  },
  {
   "cell_type": "code",
   "execution_count": 28,
   "id": "c6dde2b4",
   "metadata": {},
   "outputs": [
    {
     "data": {
      "text/plain": [
       "array(['BAX', 'CCND1', 'COL3A1', 'FN1', 'GNAS', 'JUN', 'KRT8', 'MMP2',\n",
       "       'MMP9', 'MUC1', 'NFKBIA', 'RAN', 'SPP1', 'TGFB1'], dtype=object)"
      ]
     },
     "execution_count": 28,
     "metadata": {},
     "output_type": "execute_result"
    }
   ],
   "source": [
    "# list GWAS gene that in our gene-of-interests\n",
    "np.intersect1d(GWAS, DEGs)"
   ]
  },
  {
   "cell_type": "code",
   "execution_count": 9,
   "id": "33992cb3",
   "metadata": {},
   "outputs": [],
   "source": [
    "'''GWAS enrichment'''\n",
    "'''DEGs are selected all DSs of the top scURs\n",
    "    background genes are all differentially expressed genes\n",
    "'''\n",
    "    \n",
    "#DEGs of each celltype \n",
    "cancer_list = ['Lung','Liver','Breast','Colon','Ovary']\n",
    "cancer = \"Colon\" # change here for different cancers\n",
    "\n",
    "with open('/GWAS_enrich_percelltype_DS4topcUR_DEGasBG_'+cancer+'.txt','w') as f:\n",
    "\n",
    "    DEGs = pd.read_csv('/ligand_target_merged_DS_of_scUR.csv',sep = ',')\n",
    "    top_scURs = [\"COL1A1\",\"FN1\",\"SPP1\",\"COL4A1\",\"COL18A1\", \"PLAU\" , \"CLEC11A\" ,\"MDK\"]\n",
    "    DEGs = DEGs.loc[np.isin(DEGs['ligand'], top_scURs)]\n",
    "    DEGs = DEGs.loc[DEGs['cancer']==cancer]\n",
    "\n",
    "\n",
    "    celltype_DEG = np.unique(DEGs['receiver'])\n",
    "    print(\"celltypes_DEGs: \", celltype_DEG, file =f)\n",
    "\n",
    "    '''Differentially expressed genes in each cell type were background genes'''\n",
    "    bg_file_path = (\"/DEGs_of_\"+cancer+\"/DEGs_merged_\"+cancer+\"_MAST.txt\")\n",
    "    all_gene = np.arange(0)\n",
    "    all = pd.read_csv(bg_file_path,sep = '\\t') \n",
    "    all\n",
    "    \n",
    "    celltype_bg = all.columns\n",
    "    print(\"celltypes_bgs: \", celltype_bg, file =f)\n",
    "    DEGs\n",
    "\n",
    "    '''loop all celltype'''\n",
    "    for c in range(len(celltype_DEG)):\n",
    "        print('\\n', file =f)\n",
    "        print(celltype_DEG[c], file =f)\n",
    "        iDEGs = DEGs.loc[DEGs['receiver']==celltype_DEG[c]]['target'].unique()\n",
    "        print(celltype_DEG[c],\"DEGs\",len(iDEGs), file =f)\n",
    "        ibackground_genes = all[celltype_DEG[c]].unique()\n",
    "        ibackground_genes = [x for x in ibackground_genes if x != 'NAN']\n",
    "        ibackground_genes = [x for x in ibackground_genes if x != 'nan']\n",
    "        print(celltype_DEG[c],\"background\",len(ibackground_genes), file =f)\n",
    "\n",
    "        GWAS = list()\n",
    "        for g in GWAS_Colon:\n",
    "            for a in ibackground_genes:\n",
    "                a = str(a)\n",
    "                for i in range(len(a.split('///'))):\n",
    "                    if g == a.split('///')[i]:\n",
    "                        GWAS.append(a)                   \n",
    "        GWAS = np.unique(GWAS)\n",
    "        GWAS\n",
    "\n",
    "        nonDEGs = list(set(ibackground_genes) - set(iDEGs))                \n",
    "        table11 = len(np.intersect1d(GWAS, iDEGs))\n",
    "        table12 = len(iDEGs) - table11\n",
    "        table21 = len(np.intersect1d(GWAS, nonDEGs))\n",
    "        table22 = len(ibackground_genes) - (table21 + table12 + table11)\n",
    "        table = pd.DataFrame([[table11, table12], [table21, table22]])\n",
    "        table.index = ('DEGs', 'nonDEGs')\n",
    "        table.columns = ('GWAS', 'nonGWAS')\n",
    "\n",
    "        print('Colon Cancer - ',celltype_DEG[c], file =f )\n",
    "        print(table, file =f)\n",
    "        odds, pval = stats.fisher_exact(table)\n",
    "        print(\"Odds ratio: \", round(odds, 4), file =f)\n",
    "        print(\"p-value: \",round(pval, 6), file =f)\n",
    "\n",
    "        # if the odds are > 1 and pval <0.05 The list of DEGs is significantly enriched by the GWAS genes\n",
    "        # if the odds are < 1 and pval <0.05 The list of DEGs is not enriched by the GWAS genes\n",
    "\n",
    "\n"
   ]
  },
  {
   "cell_type": "code",
   "execution_count": null,
   "id": "0dbaf523",
   "metadata": {},
   "outputs": [],
   "source": []
  }
 ],
 "metadata": {
  "kernelspec": {
   "display_name": "Python 3 (ipykernel)",
   "language": "python",
   "name": "python3"
  },
  "language_info": {
   "codemirror_mode": {
    "name": "ipython",
    "version": 3
   },
   "file_extension": ".py",
   "mimetype": "text/x-python",
   "name": "python",
   "nbconvert_exporter": "python",
   "pygments_lexer": "ipython3",
   "version": "3.9.13"
  }
 },
 "nbformat": 4,
 "nbformat_minor": 5
}
